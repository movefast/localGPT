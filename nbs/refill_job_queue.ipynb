{
 "cells": [
  {
   "cell_type": "code",
   "execution_count": 1,
   "id": "890d4ff5-d46f-4232-b24b-8b38bc40162a",
   "metadata": {},
   "outputs": [
    {
     "data": {
      "text/plain": [
       "'/home/derek/Projects/localGPT/nbs'"
      ]
     },
     "execution_count": 1,
     "metadata": {},
     "output_type": "execute_result"
    }
   ],
   "source": [
    "import os\n",
    "os.getcwd()"
   ]
  },
  {
   "cell_type": "code",
   "execution_count": 2,
   "id": "2c486771-4c7a-455f-8123-7994b066fdac",
   "metadata": {},
   "outputs": [],
   "source": [
    "import re"
   ]
  },
  {
   "cell_type": "code",
   "execution_count": 3,
   "id": "3dea45cf-fb41-4793-b092-958b2d4284b9",
   "metadata": {},
   "outputs": [],
   "source": [
    "pattern = r\"=== Batch (\\d*) begins ===\"\n",
    "idxs = []\n",
    "with open(\"tmp.txt\", \"r\") as f:\n",
    "    for i, line in enumerate(f):\n",
    "        match = re.search(pattern, line)\n",
    "        if match:\n",
    "            idxs.append(int(match.group(1)))\n"
   ]
  },
  {
   "cell_type": "code",
   "execution_count": 4,
   "id": "0b072e13-0fe2-4360-a434-9d86c9675401",
   "metadata": {},
   "outputs": [
    {
     "data": {
      "text/plain": [
       "248"
      ]
     },
     "execution_count": 4,
     "metadata": {},
     "output_type": "execute_result"
    }
   ],
   "source": [
    "len(idxs)"
   ]
  },
  {
   "cell_type": "code",
   "execution_count": 5,
   "id": "558c0517-d812-444f-aa70-fbd19559d125",
   "metadata": {},
   "outputs": [],
   "source": [
    "from pymongo import MongoClient\n",
    "client = MongoClient(host=\"10.193.192.113\")\n",
    "db = client.jobs\n",
    "col = db['emb_open_world_math_0223']\n",
    "for idx in idxs:\n",
    "    col.update_one({\"_id\":idx}, {\"$set\": {\"status\": 2}})"
   ]
  },
  {
   "cell_type": "code",
   "execution_count": 6,
   "id": "e9296abd-923d-46c4-92df-b0afb9e090e3",
   "metadata": {},
   "outputs": [
    {
     "data": {
      "text/plain": [
       "321"
      ]
     },
     "execution_count": 6,
     "metadata": {},
     "output_type": "execute_result"
    }
   ],
   "source": [
    "col.count_documents({\"status\": 2})"
   ]
  },
  {
   "cell_type": "code",
   "execution_count": null,
   "id": "dcd2d33f-9077-4bd6-9155-5d0c8e781e4b",
   "metadata": {},
   "outputs": [],
   "source": []
  }
 ],
 "metadata": {
  "kernelspec": {
   "display_name": "Python 3 (ipykernel)",
   "language": "python",
   "name": "python3"
  },
  "language_info": {
   "codemirror_mode": {
    "name": "ipython",
    "version": 3
   },
   "file_extension": ".py",
   "mimetype": "text/x-python",
   "name": "python",
   "nbconvert_exporter": "python",
   "pygments_lexer": "ipython3",
   "version": "3.10.11"
  }
 },
 "nbformat": 4,
 "nbformat_minor": 5
}
